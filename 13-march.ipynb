{
 "cells": [
  {
   "cell_type": "markdown",
   "id": "4deae59e-046e-4b67-854d-4dcad9e4ae80",
   "metadata": {},
   "source": [
    "Q1. Explain the assumptions required to use ANOVA and provide examples of violations that could impact\n",
    "the validity of the results."
   ]
  },
  {
   "cell_type": "markdown",
   "id": "c1250c10-e691-4c15-a98c-a8b98a328753",
   "metadata": {},
   "source": [
    "Assumptions  in anova are following:-\n",
    "\n",
    "1.Normaling of sampling distbribution of mean, the distribution of sample mean is normally distributed\n",
    "2.Absence of outliers\n",
    "outlying score need to be removed from the dataset\n",
    "3.Homagenity of variance\n",
    "population variance in different level of each independent variable are equal\n",
    "4.sample are indenpendent and random"
   ]
  },
  {
   "cell_type": "markdown",
   "id": "9baeef9e-9fda-43ac-b3de-3997b38da551",
   "metadata": {},
   "source": [
    "Q2. What are the three types of ANOVA, and in what situations would each be used?"
   ]
  },
  {
   "cell_type": "markdown",
   "id": "d248b8bc-d5cb-416a-b543-e0e8c844c8d4",
   "metadata": {},
   "source": [
    "Three types of ANOVA are following:-\n",
    "1.one way ANOVA:- One factor with atleast 2 level these are independent\n",
    "2.repeated measure ANOVA:-One factor with atleast 2 levels are depend\n",
    "3.factorial ANOVA:- Two or more factors (each of which with atleast) 2 levles, levels can be independent and dependent"
   ]
  },
  {
   "cell_type": "markdown",
   "id": "c835a3fd-c921-4e68-9e35-6acdf280959d",
   "metadata": {},
   "source": [
    "Q3. What is the partitioning of variance in ANOVA, and why is it important to understand this concept?"
   ]
  },
  {
   "cell_type": "markdown",
   "id": "eedee41b-a7f8-4e87-b5d4-bd9630db754c",
   "metadata": {},
   "source": [
    "An ANOVA uses an F-test to evaluate whether the variance among the groups is greater than the variance within a group. Another way to view this problem is that we could partition variance, that is, we could divide the total variance in our data into the various sources of that variation.\n",
    "\n",
    "it is import for the determine the hypothesis of the soln. and find the value of F."
   ]
  },
  {
   "cell_type": "markdown",
   "id": "c52430f5-c481-4f91-abc7-e56c32d7783c",
   "metadata": {},
   "source": [
    "Q4. How would you calculate the total sum of squares (SST), explained sum of squares (SSE), and residual\n",
    "sum of squares (SSR) in a one-way ANOVA using Python?"
   ]
  },
  {
   "cell_type": "markdown",
   "id": "ec7d5dd7-bf19-49b3-b696-b3d0917a5d2e",
   "metadata": {},
   "source": [
    "T=[2,3,4,5,6,7]  #value for calculate sst\n",
    "# n=6\n",
    "# we have to follow this formal\n",
    "#total (totalai squre)/n-1-Tsqure/N\n",
    "x=T/6"
   ]
  },
  {
   "cell_type": "markdown",
   "id": "a56eaba6-f71e-4c53-a897-d2d1a2557eb5",
   "metadata": {},
   "source": [
    "Q5. In a two-way ANOVA, how would you calculate the main effects and interaction effects using Python?"
   ]
  },
  {
   "cell_type": "code",
   "execution_count": 8,
   "id": "7c4205fd-de74-46fe-8f62-a71649938790",
   "metadata": {},
   "outputs": [],
   "source": [
    "# Importing libraries \n",
    "import numpy as np \n",
    "import pandas as pd \n",
    "\n",
    "# Create a dataframe \n",
    "dataframe = pd.DataFrame({'Fertilizer': np.repeat(['daily', 'weekly'], 15), \n",
    "\t\t\t\t\t\t'Watering': np.repeat(['daily', 'weekly'], 15), \n",
    "\t\t\t\t\t\t'height': [14, 16, 15, 15, 16, 13, 12, 11, 14, \n",
    "\t\t\t\t\t\t\t\t\t15, 16, 16, 17, 18, 14, 13, 14, 14, \n",
    "\t\t\t\t\t\t\t\t\t14, 15, 16, 16, 17, 18, 14, 13, 14, \n",
    "\t\t\t\t\t\t\t\t\t14, 14, 15]}) \n"
   ]
  },
  {
   "cell_type": "code",
   "execution_count": null,
   "id": "00299572-7f47-4501-8ee0-a4493f9b930e",
   "metadata": {},
   "outputs": [],
   "source": [
    "# Importing libraries \n",
    "import statsmodels.api as sm \n",
    "from statsmodels.formula.api import ols \n",
    "\n",
    "# Performing two-way ANOVA \n",
    "model = ols( \n",
    "\t'height ~ C(Fertilizer) + C(Watering) +\\ \n",
    "\tC(Fertilizer):C(Watering)', data=df).fit() \n",
    "sm.stats.anova_lm(model, typ=2) \n"
   ]
  },
  {
   "cell_type": "code",
   "execution_count": 15,
   "id": "40b3c09b-b21e-4166-ac33-d5511a58a552",
   "metadata": {},
   "outputs": [
    {
     "ename": "SyntaxError",
     "evalue": "invalid syntax. Perhaps you forgot a comma? (3995708716.py, line 15)",
     "output_type": "error",
     "traceback": [
      "\u001b[0;36m  Cell \u001b[0;32mIn[15], line 15\u001b[0;36m\u001b[0m\n\u001b[0;31m    model = ols(height ~ C(Fertilizer) + C(Watering) +\u001b[0m\n\u001b[0m                ^\u001b[0m\n\u001b[0;31mSyntaxError\u001b[0m\u001b[0;31m:\u001b[0m invalid syntax. Perhaps you forgot a comma?\n"
     ]
    }
   ],
   "source": [
    "# Importing libraries \n",
    "import statsmodels.api as sm \n",
    "from statsmodels.formula.api import ols \n",
    "\n",
    "# Create a dataframe \n",
    "dataframe = pd.DataFrame({'Fertilizer': np.repeat(['daily', 'weekly'], 15), \n",
    "\t\t\t\t\t\t'Watering': np.repeat(['daily', 'weekly'], 15), \n",
    "\t\t\t\t\t\t'height': [14, 16, 15, 15, 16, 13, 12, 11, \n",
    "\t\t\t\t\t\t\t\t\t14, 15, 16, 16, 17, 18, 14, 13, \n",
    "\t\t\t\t\t\t\t\t\t14, 14, 14, 15, 16, 16, 17, 18, \n",
    "\t\t\t\t\t\t\t\t\t14, 13, 14, 14, 14, 15]}) \n",
    "\n",
    "\n",
    "# Performing two-way ANOVA \n",
    "model = ols(height ~ C(Fertilizer) + C(Watering) + \n",
    "C(Fertilizer):C(Watering), \n",
    "\t\t\tdata=dataframe).fit() \n",
    "result = sm.stats.anova_lm(model, type=2) \n",
    "\n",
    "# Print the result \n",
    "print(result) \n"
   ]
  },
  {
   "cell_type": "markdown",
   "id": "ae768fa3-e97f-49c0-87b2-027afbab2659",
   "metadata": {},
   "source": [
    "Q6. Suppose you conducted a one-way ANOVA and obtained an F-statistic of 5.23 and a p-value of 0.02.\n",
    "What can you conclude about the differences between the groups, and how would you interpret these\n",
    "results?"
   ]
  },
  {
   "cell_type": "code",
   "execution_count": null,
   "id": "3ff8cde8-e769-4cfd-a9ff-ad6a86aa50a5",
   "metadata": {},
   "outputs": [],
   "source": [
    "f_statistics=5.23\n",
    "p_value=0.02"
   ]
  },
  {
   "cell_type": "code",
   "execution_count": 16,
   "id": "a9bd1a36-3bc8-4862-88f3-f5dc75576dbb",
   "metadata": {},
   "outputs": [
    {
     "data": {
      "text/plain": [
       "261.5"
      ]
     },
     "execution_count": 16,
     "metadata": {},
     "output_type": "execute_result"
    }
   ],
   "source": [
    "x=5.23/0.02\n",
    "x"
   ]
  },
  {
   "cell_type": "markdown",
   "id": "52345c3c-5549-4bd7-8884-4a88ed77d39a",
   "metadata": {},
   "source": [
    "Q7. In a repeated measures ANOVA, how would you handle missing data, and what are the potential\n",
    "consequences of using different methods to handle missing data?"
   ]
  },
  {
   "cell_type": "code",
   "execution_count": null,
   "id": "4d2066a5-0d09-4003-b16d-82294d482aaf",
   "metadata": {},
   "outputs": [],
   "source": [
    "In a repeated measure ANOVA we have handle the missing data with factor the given data."
   ]
  },
  {
   "cell_type": "markdown",
   "id": "9975987c-a5e6-426c-8ac5-5a91fe4d00b2",
   "metadata": {},
   "source": [
    "Q8. What are some common post-hoc tests used after ANOVA, and when would you use each one? Provide\n",
    "an example of a situation where a post-hoc test might be necessary."
   ]
  },
  {
   "cell_type": "code",
   "execution_count": null,
   "id": "37e93604-293d-4fbe-a189-06a1ad44064a",
   "metadata": {},
   "outputs": [],
   "source": [
    "#make this example reproducible\n",
    "set.seed(1)\n",
    "\n",
    "#load tidyr library to convert data from wide to long format\n",
    "library(tidyr)\n",
    "\n",
    "#create wide dataset\n",
    "data <- data.frame(A = runif(20, 2, 5),\n",
    "                   B = runif(20, 3, 5),\n",
    "                   C = runif(20, 3, 6),\n",
    "                   D = runif(20, 4, 6))\n",
    "\n",
    "#convert to long dataset for ANOVA\n",
    "data_long <- gather(data, key = \"group\", value = \"amount\", A, B, C, D)\n",
    "\n",
    "#view first six lines of dataset\n",
    "head(data_long)\n",
    "\n",
    "#  group   amount\n",
    "#1     A 2.796526\n",
    "#2     A 3.116372\n",
    "#3     A 3.718560\n",
    "#4     A 4.724623\n",
    "#5     A 2.605046\n",
    "#6     A 4.695169\n"
   ]
  },
  {
   "cell_type": "markdown",
   "id": "d73c0ef7-46d6-4cf3-9661-2ecd23acc472",
   "metadata": {},
   "source": [
    "Q9. A researcher wants to compare the mean weight loss of three diets: A, B, and C. They collect data from\n",
    "50 participants who were randomly assigned to one of the diets. Conduct a one-way ANOVA using Python\n",
    "to determine if there are any significant differences between the mean weight loss of the three diets.\n",
    "Report the F-statistic and p-value, and interpret the results."
   ]
  },
  {
   "cell_type": "code",
   "execution_count": 17,
   "id": "b35c8434-6659-431c-869c-1e6e09be378f",
   "metadata": {},
   "outputs": [
    {
     "data": {
      "text/plain": [
       "F_onewayResult(statistic=4.35011990407674, pvalue=0.03795204795237708)"
      ]
     },
     "execution_count": 17,
     "metadata": {},
     "output_type": "execute_result"
    }
   ],
   "source": [
    "# Importing library\n",
    "from scipy.stats import f_oneway\n",
    "\n",
    "# Performance when each of the engine \n",
    "# oil is applied\n",
    "a = [89, 89, 88, 78, 79]\n",
    "b = [93, 92, 94, 89, 88]\n",
    "c = [89, 88, 89, 93, 90]\n",
    "\n",
    "\n",
    "# Conduct the one-way ANOVA\n",
    "f_oneway(a,b,c)\n"
   ]
  },
  {
   "cell_type": "markdown",
   "id": "18b1bc2b-3b4a-46a3-a0af-e22de987e31b",
   "metadata": {},
   "source": [
    "Q10. A company wants to know if there are any significant differences in the average time it takes to\n",
    "complete a task using three different software programs: Program A, Program B, and Program C. They\n",
    "randomly assign 30 employees to one of the programs and record the time it takes each employee to\n",
    "complete the task. Conduct a two-way ANOVA using Python to determine if there are any main effects or\n",
    "interaction effects between the software programs and employee experience level (novice vs.\n",
    "experienced). Report the F-statistics and p-values, and interpret the results."
   ]
  },
  {
   "cell_type": "code",
   "execution_count": null,
   "id": "ad094c1b-c0c2-4ffd-9c17-bddaa0f48583",
   "metadata": {},
   "outputs": [],
   "source": [
    "# Importing library\n",
    "from scipy.stats import f_oneway\n",
    "\n",
    "# Performance when each of the engine \n",
    "# oil is applied\n",
    "Program_a= [89, 89, 88, 78, 79]\n",
    "Program_b = [93, 92, 94, 89, 88]\n",
    "Program_c = [89, 88, 89, 93, 90]\n",
    "Program_d=[54,87,56,45,85]\n",
    "\n",
    "\n",
    "# Conduct the one-way ANOVA\n",
    "f_oneway(Program_a,Program_b,Program_c,Prograa,b,c)\n"
   ]
  },
  {
   "cell_type": "markdown",
   "id": "5a97f580-f57a-44d6-93a1-5fb410f8d76f",
   "metadata": {},
   "source": [
    "Q11. An educational researcher is interested in whether a new teaching method improves student test\n",
    "scores. They randomly assign 100 students to either the control group (traditional teaching method) or the\n",
    "experimental group (new teaching method) and administer a test at the end of the semester. Conduct a\n",
    "two-sample t-test using Python to determine if there are any significant differences in test scores\n",
    "between the two groups. If the results are significant, follow up with a post-hoc test to determine which\n",
    "group(s) differ significantly from each other."
   ]
  },
  {
   "cell_type": "code",
   "execution_count": 19,
   "id": "bacd1ac3-8576-406a-a2f0-8eaa615913be",
   "metadata": {},
   "outputs": [
    {
     "name": "stdout",
     "output_type": "stream",
     "text": [
      "7.727500000000001 12.260000000000002\n"
     ]
    }
   ],
   "source": [
    "# Python program to display variance of data groups\n",
    "\n",
    "# Import library\n",
    "import scipy.stats as stats\n",
    "\n",
    "# Creating data groups\n",
    "data_group1 = np.array([14, 15, 15, 16, 13, 8, 14,\n",
    "\t\t\t\t\t\t17, 16, 14, 19, 20, 21, 15,\n",
    "\t\t\t\t\t\t15, 16, 16, 13, 14, 12])\n",
    "data_group2 = np.array([15, 17, 14, 17, 14, 8, 12,\n",
    "\t\t\t\t\t\t19, 19, 14, 17, 22, 24, 16,\n",
    "\t\t\t\t\t\t13, 16, 13, 18, 15, 13])\n",
    "\n",
    "# Print the variance of both data groups\n",
    "print(np.var(data_group1), np.var(data_group2))\n"
   ]
  },
  {
   "cell_type": "code",
   "execution_count": 20,
   "id": "d9c692e0-c1a8-40ab-a1a2-dda0583caaf8",
   "metadata": {},
   "outputs": [
    {
     "data": {
      "text/plain": [
       "Ttest_indResult(statistic=-0.6337397070250238, pvalue=0.5300471010405257)"
      ]
     },
     "execution_count": 20,
     "metadata": {},
     "output_type": "execute_result"
    }
   ],
   "source": [
    "# Python program to demonstrate how to \n",
    "# perform two sample T-test\n",
    "\n",
    "# Import the library\n",
    "import scipy.stats as stats\n",
    "\n",
    "# Creating data groups\n",
    "data_group1 = np.array([14, 15, 15, 16, 13, 8, 14, \n",
    "\t\t\t\t\t\t17, 16, 14, 19, 20, 21, 15,\n",
    "\t\t\t\t\t\t15, 16, 16, 13, 14, 12])\n",
    "\n",
    "data_group2 = np.array([15, 17, 14, 17, 14, 8, 12, \n",
    "\t\t\t\t\t\t19, 19, 14, 17, 22, 24, 16, \n",
    "\t\t\t\t\t\t13, 16, 13, 18, 15, 13])\n",
    "\n",
    "# Perform the two sample t-test with equal variances\n",
    "stats.ttest_ind(a=data_group1, b=data_group2, equal_var=True)\n"
   ]
  },
  {
   "cell_type": "markdown",
   "id": "0b3a54f8-fdb9-49ac-a999-0211cb6951d6",
   "metadata": {},
   "source": [
    "Q12. A researcher wants to know if there are any significant differences in the average daily sales of three\n",
    "retail stores: Store A, Store B, and Store C. They randomly select 30 days and record the sales for each store\n",
    "on those days. Conduct a repeated measures ANOVA using Python to determine if there are any\n",
    "significant differences in sales between the three stores. If the results are significant, follow up with a post-\n",
    "hoc test to determine which store(s) differ significantly from each other."
   ]
  },
  {
   "cell_type": "code",
   "execution_count": 18,
   "id": "d66a59e3-5925-4002-9d71-09fc6a2061ba",
   "metadata": {},
   "outputs": [
    {
     "name": "stdout",
     "output_type": "stream",
     "text": [
      "    Cars  Engine Oil  Mileage\n",
      "0      1           1       36\n",
      "1      1           2       38\n",
      "2      1           3       30\n",
      "3      1           4       29\n",
      "4      2           1       34\n",
      "5      2           2       38\n",
      "6      2           3       30\n",
      "7      2           4       29\n",
      "8      3           1       34\n",
      "9      3           2       28\n",
      "10     3           3       38\n",
      "11     3           4       32\n",
      "12     4           1       38\n",
      "13     4           2       34\n",
      "14     4           3       20\n",
      "15     4           4       44\n",
      "16     5           1       26\n",
      "17     5           2       28\n",
      "18     5           3       34\n",
      "19     5           4       50\n"
     ]
    }
   ],
   "source": [
    "# Import the library \n",
    "import numpy as np \n",
    "import pandas as pd \n",
    "\n",
    "# Create the data \n",
    "dataframe = pd.DataFrame({'Cars': np.repeat([1, 2, 3, 4, 5], 4), \n",
    "\t\t\t\t\t\t'Engine Oil': np.tile([1, 2, 3, 4], 5), \n",
    "\t\t\t\t\t\t'Mileage': [36, 38, 30, 29, \n",
    "\t\t\t\t\t\t\t\t\t34, 38, 30, 29, \n",
    "\t\t\t\t\t\t\t\t\t34, 28, 38, 32, \n",
    "\t\t\t\t\t\t\t\t\t38, 34, 20, 44, \n",
    "\t\t\t\t\t\t\t\t\t26, 28, 34, 50]}) \n",
    "\n",
    "# Print the dataframe \n",
    "print(dataframe) \n"
   ]
  },
  {
   "cell_type": "code",
   "execution_count": null,
   "id": "d29de0b0-9a5a-4f03-9f9a-4c0049c6638a",
   "metadata": {},
   "outputs": [],
   "source": []
  }
 ],
 "metadata": {
  "kernelspec": {
   "display_name": "Python 3 (ipykernel)",
   "language": "python",
   "name": "python3"
  },
  "language_info": {
   "codemirror_mode": {
    "name": "ipython",
    "version": 3
   },
   "file_extension": ".py",
   "mimetype": "text/x-python",
   "name": "python",
   "nbconvert_exporter": "python",
   "pygments_lexer": "ipython3",
   "version": "3.10.8"
  }
 },
 "nbformat": 4,
 "nbformat_minor": 5
}
